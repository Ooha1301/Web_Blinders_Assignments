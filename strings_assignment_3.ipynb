{
  "cells": [
    {
      "cell_type": "markdown",
      "metadata": {
        "id": "q8RkYTES1QUW"
      },
      "source": [
        "1.Write a Python program to count the number of vowels in a string.\n",
        "\n",
        "input : hasdfgeuionhjl"
      ]
    },
    {
      "cell_type": "code",
      "execution_count": 1,
      "metadata": {
        "id": "UHi6ezjV1X0s"
      },
      "outputs": [
        {
          "name": "stdout",
          "output_type": "stream",
          "text": [
            "5\n"
          ]
        }
      ],
      "source": [
        "# write your code here\n",
        "def count_vowels(s):\n",
        "    vowels = \"aeiouAEIOU\"\n",
        "    count = 0\n",
        "    for char in s:\n",
        "        if char in vowels:\n",
        "            count += 1\n",
        "    return count\n",
        "\n",
        "string = \"hasdfgeuionhjl\"\n",
        "vowel_count = count_vowels(string)\n",
        "\n",
        "print(vowel_count)\n"
      ]
    },
    {
      "cell_type": "markdown",
      "metadata": {
        "id": "v7GBEK161QWy"
      },
      "source": [
        "2.Write a Python program to count the occurrences of each word in a sentence.\n",
        "\n",
        "input : hi hello hi and and hi more and more programming"
      ]
    },
    {
      "cell_type": "code",
      "execution_count": 2,
      "metadata": {
        "id": "R-UzDybK1uZo"
      },
      "outputs": [
        {
          "name": "stdout",
          "output_type": "stream",
          "text": [
            "Counter({'hi': 3, 'and': 3, 'more': 2, 'hello': 1, 'programming': 1})\n"
          ]
        }
      ],
      "source": [
        "# write your code here\n",
        "from collections import Counter\n",
        "\n",
        "def count_word_occurrences(sentence):\n",
        "    words = sentence.split()\n",
        "    word_count = Counter(words)\n",
        "    return word_count\n",
        "\n",
        "# Test the function with the given input\n",
        "input_sentence = \"hi hello hi and and hi more and more programming\"\n",
        "word_count = count_word_occurrences(input_sentence)\n",
        "\n",
        "print(word_count)\n"
      ]
    },
    {
      "cell_type": "markdown",
      "metadata": {
        "id": "evCcw-0H1QY9"
      },
      "source": [
        "3.In python how can you differentiate strings and lists. Give atleast 5 different comparisons between them."
      ]
    },
    {
      "cell_type": "markdown",
      "metadata": {
        "id": "OfiTI0pv1QbU"
      },
      "source": [
        "Answer:Mutability,\n",
        "Data Type,\n",
        "Operations,\n",
        "Indexing,\n",
        "Memory and Performance"
      ]
    },
    {
      "cell_type": "markdown",
      "metadata": {
        "id": "riR1PWxG1Qdq"
      },
      "source": [
        "4.Write a string for your own of approximately 40 in length and perform any 5 different string operations on that."
      ]
    },
    {
      "cell_type": "code",
      "execution_count": 3,
      "metadata": {
        "id": "3bHyrDS12e8i"
      },
      "outputs": [
        {
          "name": "stdout",
          "output_type": "stream",
          "text": [
            "Length of the string: 38\n",
            "Lowercase: artificial intelligence is the future.\n",
            "Count of 'i': 6\n",
            "Starts with 'Artificial': True\n",
            "Substring (index 11 to 16): intel\n"
          ]
        }
      ],
      "source": [
        "#Write your code here\n",
        "string=\"Artificial intelligence is the future.\"\n",
        "length = len(string)\n",
        "print(\"Length of the string:\", length)\n",
        "lowercase_str = string.lower()\n",
        "print(\"Lowercase:\", lowercase_str)\n",
        "count_char = string.count(\"i\")\n",
        "print(\"Count of 'i':\", count_char)\n",
        "starts_with = string.startswith(\"Artificial\")\n",
        "print(\"Starts with 'Artificial':\", starts_with)\n",
        "substring = string[11:16]\n",
        "print(\"Substring (index 11 to 16):\", substring)\n",
        "\n",
        "\n"
      ]
    },
    {
      "cell_type": "markdown",
      "metadata": {
        "id": "bbUm7VVN1Qfu"
      },
      "source": [
        "5.Explain the concatination in strings with a neat example."
      ]
    },
    {
      "cell_type": "code",
      "execution_count": 4,
      "metadata": {
        "id": "y9292Q452tF0"
      },
      "outputs": [
        {
          "name": "stdout",
          "output_type": "stream",
          "text": [
            "Hello World!\n"
          ]
        }
      ],
      "source": [
        "#write your code and explanation here\n",
        "greeting = \"Hello \"\n",
        "name = \"World!\"\n",
        "message = greeting + name\n",
        "print(message)\n",
        "#explanation\n",
        "#taking 2 strings greetin and name\n",
        "#adding both strings with +\n",
        "#and storing the value in message and printing it"
      ]
    },
    {
      "cell_type": "code",
      "execution_count": null,
      "metadata": {
        "id": "vnMNtJgq2xuG"
      },
      "outputs": [],
      "source": []
    }
  ],
  "metadata": {
    "colab": {
      "provenance": []
    },
    "kernelspec": {
      "display_name": "Python 3",
      "name": "python3"
    },
    "language_info": {
      "codemirror_mode": {
        "name": "ipython",
        "version": 3
      },
      "file_extension": ".py",
      "mimetype": "text/x-python",
      "name": "python",
      "nbconvert_exporter": "python",
      "pygments_lexer": "ipython3",
      "version": "3.11.0"
    }
  },
  "nbformat": 4,
  "nbformat_minor": 0
}
