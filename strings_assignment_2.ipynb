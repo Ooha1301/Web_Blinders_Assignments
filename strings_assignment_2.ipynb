{
  "cells": [
    {
      "cell_type": "markdown",
      "metadata": {
        "id": "EPGLodluvWuN"
      },
      "source": [
        "## Strings Assignment 2"
      ]
    },
    {
      "cell_type": "markdown",
      "metadata": {
        "id": "ddM5gMtivkoi"
      },
      "source": [
        "1.Write a Python program to reverse a string.\n",
        "\n",
        "input : hellohowareyoudoingandhowisyourhealth"
      ]
    },
    {
      "cell_type": "code",
      "execution_count": 1,
      "metadata": {
        "id": "RnP576ZZvtLH"
      },
      "outputs": [
        {
          "name": "stdout",
          "output_type": "stream",
          "text": [
            "htlaehruoysiwohdnagnioduoyerawoholleh\n"
          ]
        }
      ],
      "source": [
        "# write your code here\n",
        "def reverse_string(s):\n",
        "    return s[::-1]\n",
        "\n",
        "string = \"hellohowareyoudoingandhowisyourhealth\"\n",
        "reversed_string = reverse_string(string)\n",
        "\n",
        "print(reversed_string)\n"
      ]
    },
    {
      "cell_type": "markdown",
      "metadata": {},
      "source": [
        "2.Write a Python program to capitalize the first letter of each word in a sentence.\n",
        "\n",
        "input : hello welcome to internship"
      ]
    },
    {
      "cell_type": "code",
      "execution_count": 2,
      "metadata": {
        "id": "CTP3QwiGwT93"
      },
      "outputs": [
        {
          "name": "stdout",
          "output_type": "stream",
          "text": [
            "Hello Welcome To Internship\n"
          ]
        }
      ],
      "source": [
        "# write your code here\n",
        "def capitalize_words(sentence):\n",
        "    return ' '.join(word.capitalize() for word in sentence.split())\n",
        "\n",
        "# Test the function with the given input\n",
        "sentence = \"hello welcome to internship\"\n",
        "capitalized_sentence = capitalize_words(sentence)\n",
        "\n",
        "print(capitalized_sentence)\n"
      ]
    },
    {
      "cell_type": "markdown",
      "metadata": {
        "id": "LiGvyCoVvnyC"
      },
      "source": [
        "3.Write a Python program to find the longest word in a sentence.\n",
        "\n",
        "input : \"he is very good at painting and paint good sketches\""
      ]
    },
    {
      "cell_type": "code",
      "execution_count": 3,
      "metadata": {
        "id": "clATuC3cwwPI"
      },
      "outputs": [
        {
          "name": "stdout",
          "output_type": "stream",
          "text": [
            "painting\n"
          ]
        }
      ],
      "source": [
        "# write your code here\n",
        "def longest_word(sentence):\n",
        "    words = sentence.split()\n",
        "    longest = max(words, key=len)\n",
        "    return longest\n",
        "\n",
        "\n",
        "sentence = \"he is very good at painting and paint good sketches\"\n",
        "longest = longest_word(sentence)\n",
        "\n",
        "print(longest)"
      ]
    },
    {
      "cell_type": "markdown",
      "metadata": {
        "id": "-QhCplQjvn0w"
      },
      "source": [
        "4.Write a Python program to find the length of the last word in a sentence.\n",
        "\n",
        "input : this is the most beautiful beach I ever visited"
      ]
    },
    {
      "cell_type": "code",
      "execution_count": 4,
      "metadata": {
        "id": "QwzbahlkxGZ-"
      },
      "outputs": [
        {
          "name": "stdout",
          "output_type": "stream",
          "text": [
            "7\n"
          ]
        }
      ],
      "source": [
        "# write your code here\n",
        "def length_of_last_word(sentence):\n",
        "    words = sentence.split()\n",
        "    last_word = words[-1]\n",
        "    return len(last_word)\n",
        "\n",
        "sentence = \"this is the most beautiful beach I ever visited\"\n",
        "length = length_of_last_word(sentence)\n",
        "\n",
        "print(length)\n"
      ]
    },
    {
      "cell_type": "markdown",
      "metadata": {
        "id": "cZiXxZhsvn6q"
      },
      "source": [
        "5.Write a Python program to find the second most frequent character in a string.\n",
        "\n",
        "input: the hospital is very big and this hospital has so many doctors"
      ]
    },
    {
      "cell_type": "code",
      "execution_count": 5,
      "metadata": {
        "id": "EnHquuoCxi7F"
      },
      "outputs": [
        {
          "name": "stdout",
          "output_type": "stream",
          "text": [
            "t\n"
          ]
        }
      ],
      "source": [
        "# write your code here\n",
        "from collections import Counter\n",
        "\n",
        "def second_most_frequent_char(s):\n",
        "   \n",
        "    s = s.replace(\" \", \"\")\n",
        "   \n",
        "    freq = Counter(s)\n",
        "   \n",
        "    most_common = freq.most_common(2)\n",
        "    \n",
        "    if len(most_common) > 1:\n",
        "        return most_common[1][0] \n",
        "    else:\n",
        "        return None \n",
        "    \n",
        "string = \"the hospital is very big and this hospital has so many doctors\"\n",
        "second_most_frequent = second_most_frequent_char(string)\n",
        "\n",
        "print(second_most_frequent)\n"
      ]
    }
  ],
  "metadata": {
    "colab": {
      "provenance": [],
      "toc_visible": true
    },
    "kernelspec": {
      "display_name": "Python 3",
      "name": "python3"
    },
    "language_info": {
      "codemirror_mode": {
        "name": "ipython",
        "version": 3
      },
      "file_extension": ".py",
      "mimetype": "text/x-python",
      "name": "python",
      "nbconvert_exporter": "python",
      "pygments_lexer": "ipython3",
      "version": "3.11.0"
    }
  },
  "nbformat": 4,
  "nbformat_minor": 0
}
